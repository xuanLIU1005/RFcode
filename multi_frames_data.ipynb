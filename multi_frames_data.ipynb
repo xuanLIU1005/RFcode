{
 "cells": [
  {
   "cell_type": "code",
   "execution_count": 1,
   "metadata": {},
   "outputs": [],
   "source": [
    "import os \n",
    "from tqdm import tqdm\n",
    "import numpy as np\n",
    "import json"
   ]
  },
  {
   "cell_type": "code",
   "execution_count": 2,
   "metadata": {},
   "outputs": [],
   "source": [
    "HORIZONTAL_HEATMAPS = '/Volumes/xuan/MULTI/HORIZONTAL_HEATMAPS'\n",
    "VERTICAL_HEATMAPS = '/Volumes/xuan/MULTI/VERTICAL_HEATMAPS'\n",
    "HORIZONTAL_BOUNDINGBOX = '/Volumes/xuan/MULTI/ANNOTATIONS/BOUNDINGBOX/HORIZONTAL'\n",
    "# VERTICAL_BOUNDINGBOX = '/Volumes/xuan/MULTI/ANNOTATIONS/BOUNDINGBOX/VERTICAL'\n",
    "POSE3D = '/Volumes/xuan/MULTI/ANNOTATIONS/3DPOSE'"
   ]
  },
  {
   "cell_type": "code",
   "execution_count": 3,
   "metadata": {},
   "outputs": [],
   "source": [
    "HORIZONTAL_HEATMAPS_files = os.listdir(HORIZONTAL_HEATMAPS)\n",
    "VERTICAL_HEATMAPS_files = os.listdir(VERTICAL_HEATMAPS)"
   ]
  },
  {
   "cell_type": "code",
   "execution_count": 6,
   "metadata": {},
   "outputs": [],
   "source": [
    "HORIZONTAL_HEATMAPS_files = ['04_23', '04_15']\n",
    "VERTICAL_HEATMAPS_files = ['04_23', '04_15']"
   ]
  },
  {
   "cell_type": "code",
   "execution_count": 7,
   "metadata": {},
   "outputs": [
    {
     "name": "stderr",
     "output_type": "stream",
     "text": [
      "100%|██████████| 2/2 [00:00<00:00,  2.78it/s]\n"
     ]
    }
   ],
   "source": [
    "dataset10 = []\n",
    "for scene in tqdm(VERTICAL_HEATMAPS_files):\n",
    "    frames = list(range(9,590))\n",
    "    horizontal_boxes_path = os.path.join(HORIZONTAL_BOUNDINGBOX, f'{scene}.npy')\n",
    "    horizontal_boxes = np.load(horizontal_boxes_path)\n",
    "    pose3D_path = os.path.join(POSE3D, f'{scene}.npy')\n",
    "    pose3D_joint = np.load(pose3D_path)\n",
    "    \n",
    "    for index in frames:\n",
    "        horizontal_heatmap_path = []\n",
    "        vertical_heatmap_path = []\n",
    "        for idx in range(index-9,index+1):\n",
    "            idx_str = f\"{idx:04d}\"\n",
    "            horizontal_heatmap_path.append(os.path.join('MULTI/HORIZONTAL_HEATMAPS', scene, f'{idx_str}.npy'))\n",
    "            vertical_heatmap_path.append(os.path.join('MULTI/VERTICAL_HEATMAPS', scene, f'{idx_str}.npy'))\n",
    "\n",
    "        boxes = horizontal_boxes[index-9:index+1].tolist()\n",
    "        pose3D = pose3D_joint[index-9:index+1].tolist()\n",
    "\n",
    "        data = dict(\n",
    "            horizontal_heatmap_path = horizontal_heatmap_path,\n",
    "            vertical_heatmap_path = vertical_heatmap_path,\n",
    "            pose3D = pose3D,\n",
    "            boxes = boxes)\n",
    "\n",
    "        dataset10.append(data)\n",
    "\n",
    "with open('dataset10_test.json', 'w') as f:\n",
    "    json.dump(dataset10, f, ensure_ascii=False, indent=4)"
   ]
  },
  {
   "cell_type": "code",
   "execution_count": null,
   "metadata": {},
   "outputs": [],
   "source": []
  }
 ],
 "metadata": {
  "kernelspec": {
   "display_name": "torch",
   "language": "python",
   "name": "python3"
  },
  "language_info": {
   "codemirror_mode": {
    "name": "ipython",
    "version": 3
   },
   "file_extension": ".py",
   "mimetype": "text/x-python",
   "name": "python",
   "nbconvert_exporter": "python",
   "pygments_lexer": "ipython3",
   "version": "3.9.6"
  }
 },
 "nbformat": 4,
 "nbformat_minor": 2
}
